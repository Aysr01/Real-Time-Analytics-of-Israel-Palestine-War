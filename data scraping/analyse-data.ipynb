{
 "cells": [
  {
   "cell_type": "code",
   "execution_count": 1,
   "metadata": {},
   "outputs": [
    {
     "name": "stderr",
     "output_type": "stream",
     "text": [
      "[nltk_data] Downloading package stopwords to\n",
      "[nltk_data]     C:\\Users\\ayoub\\AppData\\Roaming\\nltk_data...\n",
      "[nltk_data]   Package stopwords is already up-to-date!\n"
     ]
    },
    {
     "data": {
      "text/plain": [
       "True"
      ]
     },
     "execution_count": 1,
     "metadata": {},
     "output_type": "execute_result"
    }
   ],
   "source": [
    "import pandas as pd\n",
    "import nltk\n",
    "from nltk.corpus import stopwords\n",
    "import praw\n",
    "import os\n",
    "from datetime import datetime\n",
    "nltk.download('stopwords')"
   ]
  },
  {
   "cell_type": "markdown",
   "metadata": {},
   "source": [
    "## Pyspark"
   ]
  },
  {
   "cell_type": "code",
   "execution_count": 34,
   "metadata": {},
   "outputs": [],
   "source": [
    "import pyspark \n",
    "from pyspark.sql import SparkSession\n",
    "from pyspark.sql.types import StructType, StructField, StringType, IntegerType, TimestampType, ArrayType\n",
    "from pyspark.sql.functions import col, window, sum, count, avg, explode\n",
    "\n",
    "spark = SparkSession.builder.appName(\"test0\").getOrCreate()\n",
    "spark.conf.set(\"spark.sql.execution.arrow.enabled\", \"true\")\n",
    "\n",
    "\n",
    "df = spark.read.json(\"scraped_data/israel-palestine.json\", multiLine=True)\n",
    "\n",
    "comments_df = df.selectExpr(\"id as post_id\",\"explode(comments) as comment\") \\\n",
    "                .selectExpr(\"post_id\", \"comment.*\") \\\n",
    "                .withColumn(\"timestamp\", col(\"timestamp\").cast(TimestampType())) \\\n",
    "                \n",
    "posts_df = df[[column for column in df.columns if column != \"comments\"]] \\\n",
    "    .withColumn(\"timestamp\", col(\"timestamp\").cast(TimestampType())) \\\n",
    "                \n",
    "\n",
    "comments_pd = comments_df.toPandas()\n",
    "posts_pd = posts_df.toPandas()"
   ]
  },
  {
   "cell_type": "code",
   "execution_count": 36,
   "metadata": {},
   "outputs": [
    {
     "data": {
      "text/html": [
       "<div>\n",
       "<style scoped>\n",
       "    .dataframe tbody tr th:only-of-type {\n",
       "        vertical-align: middle;\n",
       "    }\n",
       "\n",
       "    .dataframe tbody tr th {\n",
       "        vertical-align: top;\n",
       "    }\n",
       "\n",
       "    .dataframe thead th {\n",
       "        text-align: right;\n",
       "    }\n",
       "</style>\n",
       "<table border=\"1\" class=\"dataframe\">\n",
       "  <thead>\n",
       "    <tr style=\"text-align: right;\">\n",
       "      <th></th>\n",
       "      <th>post_id</th>\n",
       "      <th>id</th>\n",
       "      <th>label</th>\n",
       "      <th>text</th>\n",
       "      <th>timestamp</th>\n",
       "      <th>ups</th>\n",
       "    </tr>\n",
       "  </thead>\n",
       "  <tbody>\n",
       "    <tr>\n",
       "      <th>0</th>\n",
       "      <td>175au9w</td>\n",
       "      <td>k4efycz</td>\n",
       "      <td>neutral</td>\n",
       "      <td>Israel pulled out of Gaza in 2005 so the 2010 ...</td>\n",
       "      <td>2023-10-11 11:56:11</td>\n",
       "      <td>1411</td>\n",
       "    </tr>\n",
       "    <tr>\n",
       "      <th>1</th>\n",
       "      <td>175au9w</td>\n",
       "      <td>k4eg0gi</td>\n",
       "      <td>with palestine</td>\n",
       "      <td>The 1946 map should be completely red as the w...</td>\n",
       "      <td>2023-10-11 11:56:49</td>\n",
       "      <td>833</td>\n",
       "    </tr>\n",
       "    <tr>\n",
       "      <th>2</th>\n",
       "      <td>175au9w</td>\n",
       "      <td>k4ees0u</td>\n",
       "      <td>with palestine</td>\n",
       "      <td>To be fair. You should count 1947 as the first...</td>\n",
       "      <td>2023-10-11 11:43:13</td>\n",
       "      <td>457</td>\n",
       "    </tr>\n",
       "  </tbody>\n",
       "</table>\n",
       "</div>"
      ],
      "text/plain": [
       "   post_id       id           label  \\\n",
       "0  175au9w  k4efycz         neutral   \n",
       "1  175au9w  k4eg0gi  with palestine   \n",
       "2  175au9w  k4ees0u  with palestine   \n",
       "\n",
       "                                                text           timestamp   ups  \n",
       "0  Israel pulled out of Gaza in 2005 so the 2010 ... 2023-10-11 11:56:11  1411  \n",
       "1  The 1946 map should be completely red as the w... 2023-10-11 11:56:49   833  \n",
       "2  To be fair. You should count 1947 as the first... 2023-10-11 11:43:13   457  "
      ]
     },
     "execution_count": 36,
     "metadata": {},
     "output_type": "execute_result"
    }
   ],
   "source": [
    "comments_pd.head(3)"
   ]
  },
  {
   "cell_type": "code",
   "execution_count": 37,
   "metadata": {},
   "outputs": [
    {
     "data": {
      "text/html": [
       "<div>\n",
       "<style scoped>\n",
       "    .dataframe tbody tr th:only-of-type {\n",
       "        vertical-align: middle;\n",
       "    }\n",
       "\n",
       "    .dataframe tbody tr th {\n",
       "        vertical-align: top;\n",
       "    }\n",
       "\n",
       "    .dataframe thead th {\n",
       "        text-align: right;\n",
       "    }\n",
       "</style>\n",
       "<table border=\"1\" class=\"dataframe\">\n",
       "  <thead>\n",
       "    <tr style=\"text-align: right;\">\n",
       "      <th></th>\n",
       "      <th>class</th>\n",
       "      <th>id</th>\n",
       "      <th>num_comments</th>\n",
       "      <th>preview</th>\n",
       "      <th>subreddit</th>\n",
       "      <th>text</th>\n",
       "      <th>timestamp</th>\n",
       "      <th>title</th>\n",
       "      <th>upvote_ratio</th>\n",
       "      <th>upvotes</th>\n",
       "      <th>url</th>\n",
       "    </tr>\n",
       "  </thead>\n",
       "  <tbody>\n",
       "    <tr>\n",
       "      <th>0</th>\n",
       "      <td></td>\n",
       "      <td>175au9w</td>\n",
       "      <td>682</td>\n",
       "      <td>https://external-preview.redd.it/35qaia1zr0YPI...</td>\n",
       "      <td>r/geopolitics</td>\n",
       "      <td></td>\n",
       "      <td>2023-10-11 11:31:27</td>\n",
       "      <td>Is this Palestine-Israel map history accurate?</td>\n",
       "      <td>0.77</td>\n",
       "      <td>1060</td>\n",
       "      <td>https://solidarnost.su/wp-content/uploads/2015...</td>\n",
       "    </tr>\n",
       "    <tr>\n",
       "      <th>1</th>\n",
       "      <td>None</td>\n",
       "      <td>1c7lqqt</td>\n",
       "      <td>1375</td>\n",
       "      <td>https://external-preview.redd.it/mKqHVAGaLWiUI...</td>\n",
       "      <td>r/news</td>\n",
       "      <td></td>\n",
       "      <td>2024-04-19 03:26:18</td>\n",
       "      <td>Israel missiles strike Iran - US officials inf...</td>\n",
       "      <td>0.94</td>\n",
       "      <td>11643</td>\n",
       "      <td>https://www.reuters.com/world/middle-east/isra...</td>\n",
       "    </tr>\n",
       "    <tr>\n",
       "      <th>2</th>\n",
       "      <td>None</td>\n",
       "      <td>1c3pjmi</td>\n",
       "      <td>1492</td>\n",
       "      <td>None</td>\n",
       "      <td>r/NoStupidQuestions</td>\n",
       "      <td>Aren't they Jewish? Don't they specifically NO...</td>\n",
       "      <td>2024-04-14 10:26:07</td>\n",
       "      <td>Why do Christian nationalists support Israel, ...</td>\n",
       "      <td>0.77</td>\n",
       "      <td>6048</td>\n",
       "      <td>https://www.reddit.com/r/NoStupidQuestions/com...</td>\n",
       "    </tr>\n",
       "  </tbody>\n",
       "</table>\n",
       "</div>"
      ],
      "text/plain": [
       "  class       id  num_comments  \\\n",
       "0        175au9w           682   \n",
       "1  None  1c7lqqt          1375   \n",
       "2  None  1c3pjmi          1492   \n",
       "\n",
       "                                             preview            subreddit  \\\n",
       "0  https://external-preview.redd.it/35qaia1zr0YPI...        r/geopolitics   \n",
       "1  https://external-preview.redd.it/mKqHVAGaLWiUI...               r/news   \n",
       "2                                               None  r/NoStupidQuestions   \n",
       "\n",
       "                                                text           timestamp  \\\n",
       "0                                                    2023-10-11 11:31:27   \n",
       "1                                                    2024-04-19 03:26:18   \n",
       "2  Aren't they Jewish? Don't they specifically NO... 2024-04-14 10:26:07   \n",
       "\n",
       "                                               title  upvote_ratio  upvotes  \\\n",
       "0     Is this Palestine-Israel map history accurate?          0.77     1060   \n",
       "1  Israel missiles strike Iran - US officials inf...          0.94    11643   \n",
       "2  Why do Christian nationalists support Israel, ...          0.77     6048   \n",
       "\n",
       "                                                 url  \n",
       "0  https://solidarnost.su/wp-content/uploads/2015...  \n",
       "1  https://www.reuters.com/world/middle-east/isra...  \n",
       "2  https://www.reddit.com/r/NoStupidQuestions/com...  "
      ]
     },
     "execution_count": 37,
     "metadata": {},
     "output_type": "execute_result"
    }
   ],
   "source": [
    "posts_pd.head(3)"
   ]
  },
  {
   "cell_type": "code",
   "execution_count": 41,
   "metadata": {},
   "outputs": [],
   "source": [
    "posts_pd.to_csv(\"scraped_data/posts.csv\", index=False)"
   ]
  },
  {
   "cell_type": "code",
   "execution_count": 84,
   "metadata": {},
   "outputs": [
    {
     "data": {
      "text/plain": [
       "label\n",
       "with palestine    9879\n",
       "with israel       9450\n",
       "neutral           4423\n",
       "inquisitive       3708\n",
       "indifferent        303\n",
       "with iran            2\n",
       "sad                  2\n",
       "with                 2\n",
       "with iceland         1\n",
       "with lebanon         1\n",
       "agree                1\n",
       "humor                1\n",
       "with iran            1\n",
       "disappointed         1\n",
       "with russia          1\n",
       "sarcastic            1\n",
       "Name: count, dtype: int64"
      ]
     },
     "execution_count": 84,
     "metadata": {},
     "output_type": "execute_result"
    }
   ],
   "source": [
    "comments_pd[\"label\"].value_counts()"
   ]
  },
  {
   "cell_type": "code",
   "execution_count": 91,
   "metadata": {},
   "outputs": [
    {
     "data": {
      "text/html": [
       "<div>\n",
       "<style scoped>\n",
       "    .dataframe tbody tr th:only-of-type {\n",
       "        vertical-align: middle;\n",
       "    }\n",
       "\n",
       "    .dataframe tbody tr th {\n",
       "        vertical-align: top;\n",
       "    }\n",
       "\n",
       "    .dataframe thead th {\n",
       "        text-align: right;\n",
       "    }\n",
       "</style>\n",
       "<table border=\"1\" class=\"dataframe\">\n",
       "  <thead>\n",
       "    <tr style=\"text-align: right;\">\n",
       "      <th></th>\n",
       "      <th>label</th>\n",
       "      <th>ups</th>\n",
       "    </tr>\n",
       "  </thead>\n",
       "  <tbody>\n",
       "    <tr>\n",
       "      <th>12</th>\n",
       "      <td>with israel</td>\n",
       "      <td>4932739</td>\n",
       "    </tr>\n",
       "    <tr>\n",
       "      <th>14</th>\n",
       "      <td>with palestine</td>\n",
       "      <td>4296109</td>\n",
       "    </tr>\n",
       "    <tr>\n",
       "      <th>5</th>\n",
       "      <td>neutral</td>\n",
       "      <td>2030768</td>\n",
       "    </tr>\n",
       "    <tr>\n",
       "      <th>4</th>\n",
       "      <td>inquisitive</td>\n",
       "      <td>1582656</td>\n",
       "    </tr>\n",
       "    <tr>\n",
       "      <th>3</th>\n",
       "      <td>indifferent</td>\n",
       "      <td>100587</td>\n",
       "    </tr>\n",
       "    <tr>\n",
       "      <th>9</th>\n",
       "      <td>with iceland</td>\n",
       "      <td>4565</td>\n",
       "    </tr>\n",
       "    <tr>\n",
       "      <th>11</th>\n",
       "      <td>with iran</td>\n",
       "      <td>1072</td>\n",
       "    </tr>\n",
       "    <tr>\n",
       "      <th>8</th>\n",
       "      <td>with</td>\n",
       "      <td>875</td>\n",
       "    </tr>\n",
       "    <tr>\n",
       "      <th>6</th>\n",
       "      <td>sad</td>\n",
       "      <td>148</td>\n",
       "    </tr>\n",
       "    <tr>\n",
       "      <th>0</th>\n",
       "      <td>agree</td>\n",
       "      <td>144</td>\n",
       "    </tr>\n",
       "    <tr>\n",
       "      <th>1</th>\n",
       "      <td>disappointed</td>\n",
       "      <td>92</td>\n",
       "    </tr>\n",
       "    <tr>\n",
       "      <th>15</th>\n",
       "      <td>with russia</td>\n",
       "      <td>91</td>\n",
       "    </tr>\n",
       "    <tr>\n",
       "      <th>7</th>\n",
       "      <td>sarcastic</td>\n",
       "      <td>55</td>\n",
       "    </tr>\n",
       "    <tr>\n",
       "      <th>10</th>\n",
       "      <td>with iran</td>\n",
       "      <td>32</td>\n",
       "    </tr>\n",
       "    <tr>\n",
       "      <th>13</th>\n",
       "      <td>with lebanon</td>\n",
       "      <td>26</td>\n",
       "    </tr>\n",
       "    <tr>\n",
       "      <th>2</th>\n",
       "      <td>humor</td>\n",
       "      <td>6</td>\n",
       "    </tr>\n",
       "  </tbody>\n",
       "</table>\n",
       "</div>"
      ],
      "text/plain": [
       "             label      ups\n",
       "12     with israel  4932739\n",
       "14  with palestine  4296109\n",
       "5          neutral  2030768\n",
       "4      inquisitive  1582656\n",
       "3      indifferent   100587\n",
       "9    with iceland      4565\n",
       "11      with iran      1072\n",
       "8             with      875\n",
       "6             sad       148\n",
       "0           agree       144\n",
       "1     disappointed       92\n",
       "15     with russia       91\n",
       "7        sarcastic       55\n",
       "10       with iran       32\n",
       "13   with lebanon        26\n",
       "2           humor         6"
      ]
     },
     "execution_count": 91,
     "metadata": {},
     "output_type": "execute_result"
    }
   ],
   "source": [
    "comments_pd.groupby(\"label\")[\"ups\"].sum().reset_index().sort_values(\"ups\", ascending=False)"
   ]
  },
  {
   "cell_type": "code",
   "execution_count": 87,
   "metadata": {},
   "outputs": [],
   "source": [
    "comments_pd[\"day\"] = comments_pd[\"timestamp\"].dt.date\n",
    "day_count = comments_pd[comments_pd[\"label\"].isin([\"with israel\", \"with palestine\", \"neutral\"])] \\\n",
    "           .groupby([\"label\", \"day\"])[\"id\"] \\\n",
    "           .count() \\\n",
    "           .reset_index()\n"
   ]
  },
  {
   "cell_type": "code",
   "execution_count": 88,
   "metadata": {},
   "outputs": [],
   "source": [
    "import seaborn as sns\n",
    "\n",
    "day_count[\"cumcount\"] = day_count.groupby(\"label\")[\"id\"].cumsum()\n"
   ]
  },
  {
   "cell_type": "code",
   "execution_count": 89,
   "metadata": {},
   "outputs": [
    {
     "data": {
      "text/plain": [
       "<Axes: xlabel='day', ylabel='cumcount'>"
      ]
     },
     "execution_count": 89,
     "metadata": {},
     "output_type": "execute_result"
    },
    {
     "data": {
      "image/png": "[encoded data removed]",
      "text/plain": [
       "<Figure size 640x480 with 1 Axes>"
      ]
     },
     "metadata": {},
     "output_type": "display_data"
    }
   ],
   "source": [
    "sns.lineplot(x=\"day\", y=\"cumcount\", data=day_count, hue=\"label\")"
   ]
  },
  {
   "cell_type": "code",
   "execution_count": 2,
   "metadata": {},
   "outputs": [
    {
     "name": "stdout",
     "output_type": "stream",
     "text": [
      "<class 'pandas.core.frame.DataFrame'>\n",
      "RangeIndex: 27777 entries, 0 to 27776\n",
      "Data columns (total 6 columns):\n",
      " #   Column     Non-Null Count  Dtype \n",
      "---  ------     --------------  ----- \n",
      " 0   post_id    27777 non-null  object\n",
      " 1   id         27777 non-null  object\n",
      " 2   label      27777 non-null  object\n",
      " 3   text       27777 non-null  object\n",
      " 4   timestamp  27777 non-null  object\n",
      " 5   ups        27777 non-null  int64 \n",
      "dtypes: int64(1), object(5)\n",
      "memory usage: 1.3+ MB\n"
     ]
    }
   ],
   "source": [
    "comments_df = pd.read_csv(\"scraped_data/reddit_comments.csv\")\n",
    "comments_df.info()"
   ]
  },
  {
   "cell_type": "code",
   "execution_count": 8,
   "metadata": {},
   "outputs": [],
   "source": [
    "labels = [\"with israel\", \"with palestine\", \"neutral\", \"indifferent\", \"inquisitive\"]\n",
    "undesired_text = [\"[ Removed by Reddit ]\", \"[supprimé]\",\"[effacé]\"] \n",
    "clean_df = comments_df[(comments_df.label.isin(labels)) & \n",
    "            (~comments_df.text.isin(undesired_text))]"
   ]
  },
  {
   "cell_type": "code",
   "execution_count": 13,
   "metadata": {},
   "outputs": [],
   "source": [
    "clean_df.to_csv(\"scraped_data/reddit_comments_clean.csv\", index=False)"
   ]
  },
  {
   "cell_type": "code",
   "execution_count": 5,
   "metadata": {},
   "outputs": [
    {
     "ename": "ValueError",
     "evalue": "Invalid format specifier ' 2024-04-28 19:54:54,\n        \"id\": l1ofll1,\n        \"text\": >I mean that 45% of Palestinians in the West Bank support Hamas\n\nI presume you are referring to their share of the vote in the 2005 Legislative Elections. I will point out that, based on that number, even back then more than half did not vote Hamas.\n\nI'm sure their *current* support **in the Palestinian territories** is actually quite a bit higher than that though I don't have the most recent credible polling numbers. But then I liken this to Ukranians who may not have ordinarily wanted anything to do with the Azov Brigade (who are literal Nazis) suddenly supporting them once the Russian bombs began to fall.\n\nJust to avoid any ambiguity, nothing in what I have said should be interpreted as support for Hamas or their tactics of seeking out civilian soft targets. All I am saying is that, for a people that feels under siege and occupation, I can understand why many among them will profess support for anyone they perceive to be fighting back on their behalf.\n\n>In England, all the organisations I have been a part of, support Hamas\n\nI live in England and I've been active in the pro Palestinian movement since the late 90s and I do not recognise your categorisation in the slightest! In what way do they support Hamas???\n\nEveryone I have ever interacted with in the pro-Palestine movement has always been against the targeting of civilians on both sides.\n\nCan you give me some specific examples of the pro Hamas support you claim to have encountered?,\n        \"ups\": 1,\n        \"downs\": 0,\n        \"subreddit\": IsraelPalestine\n    ' for object of type 'str'",
     "output_type": "error",
     "traceback": [
      "\u001b[1;31m---------------------------------------------------------------------------\u001b[0m",
      "\u001b[1;31mValueError\u001b[0m                                Traceback (most recent call last)",
      "Cell \u001b[1;32mIn[5], line 21\u001b[0m\n\u001b[0;32m     19\u001b[0m \u001b[38;5;28;01mfor\u001b[39;00m comment \u001b[38;5;129;01min\u001b[39;00m subreddit\u001b[38;5;241m.\u001b[39mstream\u001b[38;5;241m.\u001b[39mcomments():\n\u001b[0;32m     20\u001b[0m     timestamp \u001b[38;5;241m=\u001b[39m datetime\u001b[38;5;241m.\u001b[39mfromtimestamp(comment\u001b[38;5;241m.\u001b[39mcreated_utc)\n\u001b[1;32m---> 21\u001b[0m     \u001b[38;5;28mprint\u001b[39m(\u001b[38;5;124mf\u001b[39m\u001b[38;5;124m\"\"\"\u001b[39m\u001b[38;5;132;01m{\u001b[39;00m\n\u001b[0;32m     22\u001b[0m \u001b[38;5;250m        \u001b[39m\u001b[38;5;124m\"\u001b[39m\u001b[38;5;124mtimestamp\u001b[39m\u001b[38;5;124m\"\u001b[39m\u001b[38;5;132;01m:\u001b[39;00m\u001b[38;5;124m \u001b[39m\u001b[38;5;132;01m{\u001b[39;00mtimestamp\u001b[38;5;132;01m}\u001b[39;00m\u001b[38;5;124m,\u001b[39m\n\u001b[0;32m     23\u001b[0m \u001b[38;5;124m        \u001b[39m\u001b[38;5;124m\"\u001b[39m\u001b[38;5;124mid\u001b[39m\u001b[38;5;124m\"\u001b[39m\u001b[38;5;124m: \u001b[39m\u001b[38;5;132;01m{\u001b[39;00mcomment\u001b[38;5;241m.\u001b[39mid\u001b[38;5;132;01m}\u001b[39;00m\u001b[38;5;124m,\u001b[39m\n\u001b[0;32m     24\u001b[0m \u001b[38;5;124m        \u001b[39m\u001b[38;5;124m\"\u001b[39m\u001b[38;5;124mtext\u001b[39m\u001b[38;5;124m\"\u001b[39m\u001b[38;5;124m: \u001b[39m\u001b[38;5;132;01m{\u001b[39;00mcomment\u001b[38;5;241m.\u001b[39mbody\u001b[38;5;132;01m}\u001b[39;00m\u001b[38;5;124m,\u001b[39m\n\u001b[0;32m     25\u001b[0m \u001b[38;5;124m        \u001b[39m\u001b[38;5;124m\"\u001b[39m\u001b[38;5;124mups\u001b[39m\u001b[38;5;124m\"\u001b[39m\u001b[38;5;124m: \u001b[39m\u001b[38;5;132;01m{\u001b[39;00mcomment\u001b[38;5;241m.\u001b[39mups\u001b[38;5;132;01m}\u001b[39;00m\u001b[38;5;124m,\u001b[39m\n\u001b[0;32m     26\u001b[0m \u001b[38;5;124m        \u001b[39m\u001b[38;5;124m\"\u001b[39m\u001b[38;5;124mdowns\u001b[39m\u001b[38;5;124m\"\u001b[39m\u001b[38;5;124m: \u001b[39m\u001b[38;5;132;01m{\u001b[39;00mcomment\u001b[38;5;241m.\u001b[39mdowns\u001b[38;5;132;01m}\u001b[39;00m\u001b[38;5;124m,\u001b[39m\n\u001b[0;32m     27\u001b[0m \u001b[38;5;124m        \u001b[39m\u001b[38;5;124m\"\u001b[39m\u001b[38;5;124msubreddit\u001b[39m\u001b[38;5;124m\"\u001b[39m\u001b[38;5;124m: \u001b[39m\u001b[38;5;132;01m{\u001b[39;00mcomment\u001b[38;5;241m.\u001b[39msubreddit\u001b[38;5;241m.\u001b[39mdisplay_name\u001b[38;5;132;01m}\u001b[39;00m\n\u001b[0;32m     28\u001b[0m \u001b[38;5;124m    \u001b[39m\u001b[38;5;132;01m}\u001b[39;00m\u001b[38;5;124m\"\"\"\u001b[39m\n\u001b[0;32m     29\u001b[0m     )\n",
      "\u001b[1;31mValueError\u001b[0m: Invalid format specifier ' 2024-04-28 19:54:54,\n        \"id\": l1ofll1,\n        \"text\": >I mean that 45% of Palestinians in the West Bank support Hamas\n\nI presume you are referring to their share of the vote in the 2005 Legislative Elections. I will point out that, based on that number, even back then more than half did not vote Hamas.\n\nI'm sure their *current* support **in the Palestinian territories** is actually quite a bit higher than that though I don't have the most recent credible polling numbers. But then I liken this to Ukranians who may not have ordinarily wanted anything to do with the Azov Brigade (who are literal Nazis) suddenly supporting them once the Russian bombs began to fall.\n\nJust to avoid any ambiguity, nothing in what I have said should be interpreted as support for Hamas or their tactics of seeking out civilian soft targets. All I am saying is that, for a people that feels under siege and occupation, I can understand why many among them will profess support for anyone they perceive to be fighting back on their behalf.\n\n>In England, all the organisations I have been a part of, support Hamas\n\nI live in England and I've been active in the pro Palestinian movement since the late 90s and I do not recognise your categorisation in the slightest! In what way do they support Hamas???\n\nEveryone I have ever interacted with in the pro-Palestine movement has always been against the targeting of civilians on both sides.\n\nCan you give me some specific examples of the pro Hamas support you claim to have encountered?,\n        \"ups\": 1,\n        \"downs\": 0,\n        \"subreddit\": IsraelPalestine\n    ' for object of type 'str'"
     ]
    }
   ],
   "source": [
    "import os\n",
    "import praw\n",
    "from datetime import datetime\n",
    "\n",
    "client_id = os.environ.get('CLIENT_ID')\n",
    "client_secret = os.environ.get('CLIENT_SECRET')\n",
    "user_agent = \"Mozilla/5.0 (Windows NT 6.1; Win64; x64; rv:47.0) Gecko/20100101 Firefox/47.0\"\n",
    "username = os.environ.get('REDDIT_USERNAME')\n",
    "password = os.environ.get('REDDIT_PASSWORD')\n",
    "reddit = praw.Reddit(client_id=client_id,\n",
    "                    client_secret=client_secret,\n",
    "                    user_agent=user_agent,\n",
    "                    username=username,\n",
    "                    password=password)\n",
    "\n",
    "subreddit = reddit.subreddit(\"IsraelPalestine+worldnews\")\n",
    "start_date = datetime(2023, 11, 1)\n",
    "\n",
    "for comment in subreddit.stream.comments():\n",
    "    timestamp = datetime.fromtimestamp(comment.created_utc)\n",
    "    print(f\"\"\"{\n",
    "        \"timestamp\": {timestamp},\n",
    "        \"id\": {comment.id},\n",
    "        \"text\": {comment.body},\n",
    "        \"ups\": {comment.ups},\n",
    "        \"downs\": {comment.downs},\n",
    "        \"subreddit\": {comment.subreddit.display_name}\n",
    "    }\"\"\"\n",
    "    )\n"
   ]
  }
 ],
 "metadata": {
  "kernelspec": {
   "display_name": "Python 3",
   "language": "python",
   "name": "python3"
  },
  "language_info": {
   "codemirror_mode": {
    "name": "ipython",
    "version": 3
   },
   "file_extension": ".py",
   "mimetype": "text/x-python",
   "name": "python",
   "nbconvert_exporter": "python",
   "pygments_lexer": "ipython3",
   "version": "3.11.4"
  }
 },
 "nbformat": 4,
 "nbformat_minor": 2
}
